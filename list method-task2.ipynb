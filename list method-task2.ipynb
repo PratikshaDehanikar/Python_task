{
 "cells": [
  {
   "cell_type": "markdown",
   "id": "f4d03e5d-34b1-48de-833e-c237cafc3624",
   "metadata": {},
   "source": [
    "# append"
   ]
  },
  {
   "cell_type": "code",
   "execution_count": 12,
   "id": "28604369-a65f-4e60-ac8c-8025f8ce1237",
   "metadata": {},
   "outputs": [
    {
     "name": "stdout",
     "output_type": "stream",
     "text": [
      "['Ford F-Series', 'Chevrolet', 'Toyota RAV4', 'Toyota Camry']\n"
     ]
    }
   ],
   "source": [
    "car = ['Ford F-Series', 'Chevrolet', 'Toyota RAV4']\n",
    "car.append(\"Toyota Camry\")\n",
    "print(car)"
   ]
  },
  {
   "cell_type": "markdown",
   "id": "1a190eee-4ee0-4c7b-a7dd-ce654ae866fd",
   "metadata": {},
   "source": [
    "# clear"
   ]
  },
  {
   "cell_type": "code",
   "execution_count": 20,
   "id": "baf3cabf-9912-4132-a979-2852aaaa55b7",
   "metadata": {},
   "outputs": [
    {
     "name": "stdout",
     "output_type": "stream",
     "text": [
      "[]\n"
     ]
    }
   ],
   "source": [
    "letter = ['a', 'b', 'c', 'd']\n",
    "\n",
    "letter.clear()\n",
    "print(letter)"
   ]
  },
  {
   "cell_type": "markdown",
   "id": "b2833e6e-ef57-436a-ae4c-0f6b49741772",
   "metadata": {},
   "source": [
    "# copy"
   ]
  },
  {
   "cell_type": "code",
   "execution_count": 23,
   "id": "d64bad57-3207-486c-8cbb-26c24d08a2ff",
   "metadata": {},
   "outputs": [
    {
     "name": "stdout",
     "output_type": "stream",
     "text": [
      "['apple', 'banana', 'cherry', 'orange']\n"
     ]
    }
   ],
   "source": [
    "fruits = ['apple', 'banana', 'cherry', 'orange']\n",
    "\n",
    "x = fruits.copy()\n",
    "print(x)"
   ]
  },
  {
   "cell_type": "markdown",
   "id": "204c2b46-5d45-4c2a-9b45-17f82ae53319",
   "metadata": {},
   "source": [
    "# count"
   ]
  },
  {
   "cell_type": "code",
   "execution_count": 28,
   "id": "fb62ffc1-647d-45a6-9bfe-86c8e50c66c4",
   "metadata": {},
   "outputs": [
    {
     "name": "stdout",
     "output_type": "stream",
     "text": [
      "1\n"
     ]
    }
   ],
   "source": [
    "vehicle = ['bicycle', 'activa', 'car']\n",
    "\n",
    "x = vehicle.count(\"activa\")\n",
    "print(x)"
   ]
  },
  {
   "cell_type": "markdown",
   "id": "0c9b4980-16ce-483b-b5e4-dc40ba27935e",
   "metadata": {},
   "source": [
    "# extend"
   ]
  },
  {
   "cell_type": "code",
   "execution_count": 33,
   "id": "8b762ce1-74ef-4e3f-818c-555d1632748d",
   "metadata": {},
   "outputs": [
    {
     "name": "stdout",
     "output_type": "stream",
     "text": [
      "['apple', 'banana', 'cherry', 'Ford', 'BMW', 'Volvo']\n"
     ]
    }
   ],
   "source": [
    "fruits = ['apple', 'banana', 'cherry']\n",
    "\n",
    "cars = ['Ford', 'BMW', 'Volvo']\n",
    "\n",
    "fruits.extend(cars)\n",
    "print(fruits)"
   ]
  },
  {
   "cell_type": "markdown",
   "id": "73b1c44d-d88f-47c3-b04c-ea638d4e8f53",
   "metadata": {},
   "source": [
    "# index"
   ]
  },
  {
   "cell_type": "code",
   "execution_count": 36,
   "id": "322c474c-1f9a-4dac-aaef-82d3dac3845d",
   "metadata": {},
   "outputs": [
    {
     "name": "stdout",
     "output_type": "stream",
     "text": [
      "2\n"
     ]
    }
   ],
   "source": [
    "fruits = ['leady-finger', 'tomato', 'potato','potato','onion']\n",
    "\n",
    "x = fruits.index(\"potato\")\n",
    "print(x)"
   ]
  },
  {
   "cell_type": "markdown",
   "id": "2e780925-a520-4f5b-841d-240730e0ac89",
   "metadata": {},
   "source": [
    "# insert"
   ]
  },
  {
   "cell_type": "code",
   "execution_count": null,
   "id": "09b37d90-f339-4ca3-bd2d-a560dec11c1e",
   "metadata": {},
   "outputs": [],
   "source": [
    "name = ['avantika', 'sneha', 'divya']\n",
    "\n",
    "name.insert(1, \"prachi\")\n",
    "print(name)"
   ]
  },
  {
   "cell_type": "markdown",
   "id": "e4fa31a8-9b1a-4f75-9de3-15edb07529d0",
   "metadata": {},
   "source": [
    "# pop"
   ]
  },
  {
   "cell_type": "code",
   "execution_count": 42,
   "id": "428b8399-6556-4e29-bb35-79af84d2e945",
   "metadata": {},
   "outputs": [
    {
     "data": {
      "text/plain": [
       "'nashik'"
      ]
     },
     "execution_count": 42,
     "metadata": {},
     "output_type": "execute_result"
    }
   ],
   "source": [
    "city_name = ['Nagpur', 'nashik', 'pune']\n",
    "\n",
    "city_name.pop(1)"
   ]
  },
  {
   "cell_type": "markdown",
   "id": "3977efcf-8dba-495e-a44c-482899928a71",
   "metadata": {},
   "source": [
    "# remove"
   ]
  },
  {
   "cell_type": "code",
   "execution_count": 45,
   "id": "8242358b-61fb-455d-ad9e-a821cc49e9d5",
   "metadata": {},
   "outputs": [
    {
     "name": "stdout",
     "output_type": "stream",
     "text": [
      "['maharashtra', 'rajsthan', 'manipur']\n"
     ]
    }
   ],
   "source": [
    "state = ['maharashtra', 'rajsthan', 'aasam','manipur']\n",
    "\n",
    "state.remove(\"aasam\")\n",
    "print(state)"
   ]
  },
  {
   "cell_type": "markdown",
   "id": "eb958352-9d98-4bd1-bd31-d78b8c546319",
   "metadata": {},
   "source": [
    "# reverse"
   ]
  },
  {
   "cell_type": "code",
   "execution_count": 48,
   "id": "a8cb8692-6cac-4d9e-bb77-c1168a0bf8a5",
   "metadata": {},
   "outputs": [
    {
     "name": "stdout",
     "output_type": "stream",
     "text": [
      "['S', 'P', 'A']\n"
     ]
    }
   ],
   "source": [
    "alphabets = ['A', 'P', 'S']\n",
    "\n",
    "alphabets.reverse()\n",
    "print(alphabets)"
   ]
  },
  {
   "cell_type": "markdown",
   "id": "7478ac6e-3c83-4174-a478-47ebc4bb6f5f",
   "metadata": {},
   "source": [
    "# sort"
   ]
  },
  {
   "cell_type": "code",
   "execution_count": 55,
   "id": "dd976616-88e6-4246-885d-0294cb4612fa",
   "metadata": {},
   "outputs": [
    {
     "name": "stdout",
     "output_type": "stream",
     "text": [
      "['BMW', 'Ford', 'Volvo']\n"
     ]
    }
   ],
   "source": [
    "cars = ['Ford', 'BMW', 'Volvo']\n",
    "\n",
    "cars.sort()\n",
    "print(cars)"
   ]
  }
 ],
 "metadata": {
  "kernelspec": {
   "display_name": "Python 3 (ipykernel)",
   "language": "python",
   "name": "python3"
  },
  "language_info": {
   "codemirror_mode": {
    "name": "ipython",
    "version": 3
   },
   "file_extension": ".py",
   "mimetype": "text/x-python",
   "name": "python",
   "nbconvert_exporter": "python",
   "pygments_lexer": "ipython3",
   "version": "3.11.7"
  }
 },
 "nbformat": 4,
 "nbformat_minor": 5
}
