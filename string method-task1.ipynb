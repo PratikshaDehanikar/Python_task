{
 "cells": [
  {
   "cell_type": "markdown",
   "id": "ed244bbc-bc66-47c4-be85-0eeb40a4a31d",
   "metadata": {},
   "source": [
    "# capitalize"
   ]
  },
  {
   "cell_type": "code",
   "execution_count": 2,
   "id": "efc833c0-c6cb-4bb0-886a-196e1f06d498",
   "metadata": {},
   "outputs": [
    {
     "name": "stdout",
     "output_type": "stream",
     "text": [
      "I think i missed my cab.\n"
     ]
    }
   ],
   "source": [
    "str = \"I think I missed my cab.\"\n",
    "str2 = str.capitalize()\n",
    "\n",
    "print (str2)"
   ]
  },
  {
   "cell_type": "markdown",
   "id": "f920c553-38cd-4460-8e80-07877323c8a2",
   "metadata": {},
   "source": [
    "# casefold"
   ]
  },
  {
   "cell_type": "code",
   "execution_count": 5,
   "id": "ef9f9a72-d563-4e2a-b8d3-6b4d9f8bbc5d",
   "metadata": {},
   "outputs": [
    {
     "name": "stdout",
     "output_type": "stream",
     "text": [
      "i know when the next train to bangalore is?\n"
     ]
    }
   ],
   "source": [
    "str5 = \"I know when the next train to Bangalore is?\"\n",
    "\n",
    "str6 = str5.casefold()\n",
    "\n",
    "print(str6)"
   ]
  },
  {
   "cell_type": "markdown",
   "id": "ed76e095-6e5f-4389-8d94-c9f962c0793d",
   "metadata": {},
   "source": [
    "# center"
   ]
  },
  {
   "cell_type": "code",
   "execution_count": 10,
   "id": "0a0b8fa0-2a31-4c0c-8a3e-b01a71de4ad1",
   "metadata": {},
   "outputs": [
    {
     "name": "stdout",
     "output_type": "stream",
     "text": [
      "       Apple        \n"
     ]
    }
   ],
   "source": [
    "fruit = \"Apple\"\n",
    "\n",
    "Name = fruit.center(20)\n",
    "\n",
    "print(Name)"
   ]
  },
  {
   "cell_type": "markdown",
   "id": "2243a569-206d-43b5-93ca-a7ee3899ebd2",
   "metadata": {},
   "source": [
    "# count"
   ]
  },
  {
   "cell_type": "code",
   "execution_count": 13,
   "id": "89e86fcb-da5e-46ab-a680-c1adcc6df7ae",
   "metadata": {},
   "outputs": [
    {
     "name": "stdout",
     "output_type": "stream",
     "text": [
      "2\n"
     ]
    }
   ],
   "source": [
    "str8 = \"I can help you install the software. Shall I? \"\n",
    "\n",
    "str9 = str8.count(\"I\")\n",
    "\n",
    "print(str9)"
   ]
  },
  {
   "cell_type": "markdown",
   "id": "c499b849-8605-4ddc-8d5d-aac6f3df0f60",
   "metadata": {},
   "source": [
    "# encode"
   ]
  },
  {
   "cell_type": "code",
   "execution_count": 18,
   "id": "826e9c81-7d43-4c01-b196-13eb5347339d",
   "metadata": {},
   "outputs": [
    {
     "name": "stdout",
     "output_type": "stream",
     "text": [
      "b'My name is St\\xc3\\xa5le'\n"
     ]
    }
   ],
   "source": [
    "txt = \"My name is Ståle\"\n",
    "\n",
    "x = txt.encode()\n",
    "\n",
    "print(x)\n"
   ]
  },
  {
   "cell_type": "markdown",
   "id": "f88d375f-b736-46ea-8d48-fa50cf0794b7",
   "metadata": {},
   "source": [
    "# endwith"
   ]
  },
  {
   "cell_type": "code",
   "execution_count": 23,
   "id": "bc1f45b8-dc4b-4f4a-a8c9-934c380a434a",
   "metadata": {},
   "outputs": [
    {
     "name": "stdout",
     "output_type": "stream",
     "text": [
      "True\n"
     ]
    }
   ],
   "source": [
    "sent1 = \"I am new to Coimbatore.\"\n",
    "\n",
    "sent2 = sent1.endswith(\".\")\n",
    "\n",
    "print(sent2)"
   ]
  },
  {
   "cell_type": "markdown",
   "id": "43163e39-5cc7-4efd-875e-7258f303bb8d",
   "metadata": {},
   "source": [
    "# expandtabs"
   ]
  },
  {
   "cell_type": "code",
   "execution_count": 32,
   "id": "17241241-2b10-47c9-bc6e-aba530942c6a",
   "metadata": {},
   "outputs": [
    {
     "name": "stdout",
     "output_type": "stream",
     "text": [
      "G r e a t\n"
     ]
    }
   ],
   "source": [
    "txt = \"G\\tr\\te\\ta\\tt\"\n",
    "\n",
    "x =  txt.expandtabs(1)\n",
    "\n",
    "print(x)"
   ]
  },
  {
   "cell_type": "markdown",
   "id": "dd02ad87-c34b-44dc-be2e-0a017a4c6f2c",
   "metadata": {},
   "source": [
    "# find"
   ]
  },
  {
   "cell_type": "code",
   "execution_count": 42,
   "id": "4fb27a85-e829-41a5-a75f-050171d05855",
   "metadata": {},
   "outputs": [
    {
     "name": "stdout",
     "output_type": "stream",
     "text": [
      "13\n"
     ]
    }
   ],
   "source": [
    "sent6 = \"It was great meeting you after such a long time. .\"\n",
    "\n",
    "sent7 = sent6.find(\"meeting\")\n",
    "\n",
    "print(sent7)"
   ]
  },
  {
   "cell_type": "markdown",
   "id": "b376d0d7-a38c-43de-a84f-db68d040d96c",
   "metadata": {},
   "source": [
    "# index"
   ]
  },
  {
   "cell_type": "code",
   "execution_count": 45,
   "id": "47bb01cf-c996-4307-accf-d7308392d873",
   "metadata": {},
   "outputs": [
    {
     "name": "stdout",
     "output_type": "stream",
     "text": [
      "7\n"
     ]
    }
   ],
   "source": [
    "CD = \"Hello, welcome to my world.\"\n",
    "\n",
    "DA = CD.index(\"welcome\")\n",
    "\n",
    "print(DA)"
   ]
  },
  {
   "cell_type": "markdown",
   "id": "7fb62eec-ca75-48be-abbf-663300ee1743",
   "metadata": {},
   "source": [
    "# isalnum"
   ]
  },
  {
   "cell_type": "code",
   "execution_count": 48,
   "id": "0549347f-b537-4cad-ae19-6f202d070527",
   "metadata": {},
   "outputs": [
    {
     "name": "stdout",
     "output_type": "stream",
     "text": [
      "True\n"
     ]
    }
   ],
   "source": [
    "txt = \"Employee12\"\n",
    "\n",
    "x = txt.isalnum()\n",
    "\n",
    "print(x)"
   ]
  },
  {
   "cell_type": "markdown",
   "id": "3afb65cb-8c5d-4cbb-8071-595869d6de53",
   "metadata": {},
   "source": [
    "# isdecimal"
   ]
  },
  {
   "cell_type": "code",
   "execution_count": 53,
   "id": "78e5b7fe-f7f7-4f1d-a1c4-26864238fe15",
   "metadata": {},
   "outputs": [
    {
     "name": "stdout",
     "output_type": "stream",
     "text": [
      "False\n"
     ]
    }
   ],
   "source": [
    "txt = \"66655.5\"\n",
    "\n",
    "x = txt.isdecimal()\n",
    "\n",
    "print(x)"
   ]
  },
  {
   "cell_type": "markdown",
   "id": "2cc981a5-5761-464b-b979-747ddd310055",
   "metadata": {},
   "source": [
    "# isdigit"
   ]
  },
  {
   "cell_type": "code",
   "execution_count": 10,
   "id": "cb3100d4-99cb-4e1f-b2b7-e98abf7bf09c",
   "metadata": {},
   "outputs": [
    {
     "name": "stdout",
     "output_type": "stream",
     "text": [
      "False\n"
     ]
    }
   ],
   "source": [
    "num = \"5080two\"\n",
    "\n",
    "digit = num.isdigit()\n",
    "\n",
    "print(digit)"
   ]
  },
  {
   "cell_type": "markdown",
   "id": "c6e6b22b-8c35-464d-b340-1e2dea7de650",
   "metadata": {},
   "source": [
    "# isidentifier"
   ]
  },
  {
   "cell_type": "code",
   "execution_count": 23,
   "id": "300cd801-7b37-4061-8a8a-a6ef3e898998",
   "metadata": {},
   "outputs": [
    {
     "name": "stdout",
     "output_type": "stream",
     "text": [
      "True\n",
      "True\n",
      "False\n",
      "False\n"
     ]
    }
   ],
   "source": [
    "a = \"MyFolder\"\n",
    "b = \"Demo002\"\n",
    "c = \"6bring\"\n",
    "d = \"my demo\"\n",
    "\n",
    "print(a.isidentifier())\n",
    "print(b.isidentifier())\n",
    "print(c.isidentifier())\n",
    "print(d.isidentifier())"
   ]
  },
  {
   "cell_type": "markdown",
   "id": "bda8442f-2964-447d-a582-1f91b1eff433",
   "metadata": {},
   "source": [
    "# islower"
   ]
  },
  {
   "cell_type": "code",
   "execution_count": 40,
   "id": "00a68f56-0d0e-41e6-918a-def6f33562b8",
   "metadata": {},
   "outputs": [
    {
     "name": "stdout",
     "output_type": "stream",
     "text": [
      "True\n",
      "True\n",
      "False\n"
     ]
    }
   ],
   "source": [
    "a = \"ohh, everything is good!\"\n",
    "b = \"hello 123\"\n",
    "c = \"mynameisPratiksha\"\n",
    "\n",
    "print(a.islower())\n",
    "print(b.islower())\n",
    "print(c.islower())"
   ]
  },
  {
   "cell_type": "markdown",
   "id": "15a88820-a08e-4958-a5ea-28edae7c22bb",
   "metadata": {},
   "source": [
    "# isprintable"
   ]
  },
  {
   "cell_type": "code",
   "execution_count": 49,
   "id": "1e7f0c34-1c70-4888-8d5e-5d115d70e50e",
   "metadata": {},
   "outputs": [
    {
     "name": "stdout",
     "output_type": "stream",
     "text": [
      "False\n"
     ]
    }
   ],
   "source": [
    "txt = \"Hello!\\nAre you #1?\"\n",
    "\n",
    "x = txt.isprintable()\n",
    "\n",
    "print(x)"
   ]
  },
  {
   "cell_type": "markdown",
   "id": "af55e63d-1faf-43b5-88ac-5340dce6866a",
   "metadata": {},
   "source": [
    "# join"
   ]
  },
  {
   "cell_type": "code",
   "execution_count": 65,
   "id": "c203fc72-4d4f-4f6d-918a-33219d71b6d6",
   "metadata": {},
   "outputs": [
    {
     "name": "stdout",
     "output_type": "stream",
     "text": [
      "nameTESTcountry\n"
     ]
    }
   ],
   "source": [
    "myDict = {\"name\": \"John\", \"country\": \"Norway\"}\n",
    "mySeparator = \"TEST\"\n",
    "\n",
    "x = mySeparator.join(myDict)\n",
    "\n",
    "print(x)\n"
   ]
  },
  {
   "cell_type": "markdown",
   "id": "9a721ce2-e9e3-44e2-9b3f-39f0b58e8c65",
   "metadata": {},
   "source": [
    "# istitle"
   ]
  },
  {
   "cell_type": "code",
   "execution_count": 56,
   "id": "41613e30-7b3d-4eb7-bf27-7c7c6751cba8",
   "metadata": {},
   "outputs": [
    {
     "name": "stdout",
     "output_type": "stream",
     "text": [
      "True\n"
     ]
    }
   ],
   "source": [
    "txt = \"Hello, And Welcome To My World!\"\n",
    "\n",
    "x = txt.istitle()\n",
    "\n",
    "print(x)"
   ]
  },
  {
   "cell_type": "markdown",
   "id": "efc453d8-6ecc-4ed2-9a8d-c0341fb99307",
   "metadata": {},
   "source": [
    "# Ijust"
   ]
  },
  {
   "cell_type": "code",
   "execution_count": 78,
   "id": "0016f836-647e-48f2-8c90-fd52a8ebd3c3",
   "metadata": {},
   "outputs": [
    {
     "name": "stdout",
     "output_type": "stream",
     "text": [
      "strawberry is my favorite fruit.\n"
     ]
    }
   ],
   "source": [
    "txt = \"strawberry\"\n",
    "\n",
    "x = txt.ljust(6)\n",
    "\n",
    "print(x, \"is my favorite fruit.\")\n"
   ]
  },
  {
   "cell_type": "markdown",
   "id": "c159f5d1-d199-482a-9fca-1ce497b778d9",
   "metadata": {},
   "source": [
    "# lstrip"
   ]
  },
  {
   "cell_type": "code",
   "execution_count": 81,
   "id": "2bf0cb58-34e9-4e33-beb7-562ad114c68d",
   "metadata": {},
   "outputs": [
    {
     "name": "stdout",
     "output_type": "stream",
     "text": [
      "graphs\n"
     ]
    }
   ],
   "source": [
    "txt = \",,,,,ssaaww.....graphs\"\n",
    "\n",
    "x = txt.lstrip(\",.asw\")\n",
    "\n",
    "print(x)"
   ]
  },
  {
   "cell_type": "markdown",
   "id": "35c9636c-a179-4a91-9740-15c91ad28daf",
   "metadata": {},
   "source": [
    "# maketrans"
   ]
  },
  {
   "cell_type": "code",
   "execution_count": 96,
   "id": "8fb2b033-c715-45aa-87db-65fd93831651",
   "metadata": {},
   "outputs": [
    {
     "name": "stdout",
     "output_type": "stream",
     "text": [
      "Pello!\n"
     ]
    }
   ],
   "source": [
    "txt = \"Hello!\"\n",
    "mytable = str.maketrans(\"H\", \"P\")\n",
    "print(txt.translate(mytable))"
   ]
  },
  {
   "cell_type": "markdown",
   "id": "10748af4-bb82-4738-83ce-9d77e3e0bb52",
   "metadata": {},
   "source": [
    "# Partition"
   ]
  },
  {
   "cell_type": "code",
   "execution_count": 103,
   "id": "7e29601e-fe01-4ab9-93d7-d0a3422b8787",
   "metadata": {},
   "outputs": [
    {
     "name": "stdout",
     "output_type": "stream",
     "text": [
      "('I ', 'could', ' eat bananas all day')\n"
     ]
    }
   ],
   "source": [
    "txt = \"I could eat bananas all day\"\n",
    "\n",
    "x = txt.partition(\"could\")\n",
    "\n",
    "print(x)"
   ]
  },
  {
   "cell_type": "markdown",
   "id": "8d8af043-2b28-4905-bf93-0852172cbe18",
   "metadata": {},
   "source": [
    "# replace"
   ]
  },
  {
   "cell_type": "code",
   "execution_count": 106,
   "id": "9cf4f7e5-d54f-4da9-8b1a-e1aba0438192",
   "metadata": {},
   "outputs": [
    {
     "name": "stdout",
     "output_type": "stream",
     "text": [
      "I like apples\n"
     ]
    }
   ],
   "source": [
    "txt = \"I like bananas\"\n",
    "\n",
    "x = txt.replace(\"bananas\", \"apples\")\n",
    "\n",
    "print(x)"
   ]
  },
  {
   "cell_type": "markdown",
   "id": "4951e07b-c41b-45bb-9d2c-19c9180dffa2",
   "metadata": {},
   "source": [
    "# zfill"
   ]
  },
  {
   "cell_type": "code",
   "execution_count": 113,
   "id": "1be01bca-ffb6-43ec-bf4b-976646f33c1b",
   "metadata": {},
   "outputs": [
    {
     "name": "stdout",
     "output_type": "stream",
     "text": [
      "000050\n"
     ]
    }
   ],
   "source": [
    "num = \"50\"\n",
    "\n",
    "x = num.zfill(6)\n",
    "\n",
    "print(x)"
   ]
  },
  {
   "cell_type": "markdown",
   "id": "67eb5089-6aa7-4816-80ed-98d60ee41494",
   "metadata": {},
   "source": [
    "# translate"
   ]
  },
  {
   "cell_type": "code",
   "execution_count": 116,
   "id": "5f6990c5-3eb4-4988-b01e-e7a100ef49b8",
   "metadata": {},
   "outputs": [
    {
     "name": "stdout",
     "output_type": "stream",
     "text": [
      "Hi Joe!\n"
     ]
    }
   ],
   "source": [
    "txt = \"Hi Sam!\"\n",
    "x = \"mSa\"\n",
    "y = \"eJo\"\n",
    "mytable = str.maketrans(x, y)\n",
    "print(txt.translate(mytable))"
   ]
  },
  {
   "cell_type": "markdown",
   "id": "13633dcc-c69c-4973-9a84-c9c6704d59d1",
   "metadata": {},
   "source": [
    "# swapcase"
   ]
  },
  {
   "cell_type": "code",
   "execution_count": 119,
   "id": "22a07f09-d7a0-4a41-8495-ac69f155c7c4",
   "metadata": {},
   "outputs": [
    {
     "name": "stdout",
     "output_type": "stream",
     "text": [
      "hELLO mY nAME iS peter\n"
     ]
    }
   ],
   "source": [
    "txt = \"Hello My Name Is PETER\"\n",
    "\n",
    "x = txt.swapcase()\n",
    "\n",
    "print(x)"
   ]
  },
  {
   "cell_type": "markdown",
   "id": "21d51fc0-2afc-4092-953c-2acf300bdcdd",
   "metadata": {},
   "source": [
    "# strip"
   ]
  },
  {
   "cell_type": "code",
   "execution_count": 122,
   "id": "54d0ba5e-c087-4411-9553-4d65443aaa05",
   "metadata": {},
   "outputs": [
    {
     "name": "stdout",
     "output_type": "stream",
     "text": [
      "of all fruits apple is my favorite\n"
     ]
    }
   ],
   "source": [
    "txt = \"     apple     \"\n",
    "\n",
    "x = txt.strip()\n",
    "\n",
    "print(\"of all fruits\", x, \"is my favorite\")"
   ]
  },
  {
   "cell_type": "markdown",
   "id": "541e5f11-bbdf-4269-8026-1676b2dae112",
   "metadata": {},
   "source": [
    "# startwith"
   ]
  },
  {
   "cell_type": "code",
   "execution_count": 131,
   "id": "4a5538bb-a3b0-45cf-94e3-473c608117f8",
   "metadata": {},
   "outputs": [
    {
     "name": "stdout",
     "output_type": "stream",
     "text": [
      "True\n",
      "True\n"
     ]
    }
   ],
   "source": [
    "txt = \"Hello, welcome to my world.\"\n",
    "\n",
    "x = txt.startswith(\"Hello\")\n",
    "\n",
    "print(x)\n",
    "\n",
    "\n",
    "txt = \"Hello, welcome to my world.\"\n",
    "\n",
    "x = txt.startswith(\"wel\", 7)\n",
    "\n",
    "print(x)"
   ]
  },
  {
   "cell_type": "markdown",
   "id": "e2e9f67b-0839-425a-b1bb-54404efd16ac",
   "metadata": {},
   "source": [
    "# splitline"
   ]
  },
  {
   "cell_type": "code",
   "execution_count": 137,
   "id": "57cb124c-af29-494e-9e90-366796d416cf",
   "metadata": {},
   "outputs": [
    {
     "name": "stdout",
     "output_type": "stream",
     "text": [
      "['Thank you for the painting', 'Welcome to the Home']\n"
     ]
    }
   ],
   "source": [
    "txt = \"Thank you for the painting\\nWelcome to the Home\"\n",
    "\n",
    "x = txt.splitlines()\n",
    "\n",
    "print(x)"
   ]
  },
  {
   "cell_type": "markdown",
   "id": "bcc9baee-94f0-4568-8db2-16f8e374059b",
   "metadata": {},
   "source": [
    "# split"
   ]
  },
  {
   "cell_type": "code",
   "execution_count": 143,
   "id": "d5cce6a5-4e35-41a5-8886-d6ed295ad33e",
   "metadata": {},
   "outputs": [
    {
     "name": "stdout",
     "output_type": "stream",
     "text": [
      "['welcome', 'to', 'the', 'office']\n"
     ]
    }
   ],
   "source": [
    "employee = \"welcome to the office\"\n",
    "\n",
    "x = employee.split()\n",
    "\n",
    "print(x)\n"
   ]
  }
 ],
 "metadata": {
  "kernelspec": {
   "display_name": "Python 3 (ipykernel)",
   "language": "python",
   "name": "python3"
  },
  "language_info": {
   "codemirror_mode": {
    "name": "ipython",
    "version": 3
   },
   "file_extension": ".py",
   "mimetype": "text/x-python",
   "name": "python",
   "nbconvert_exporter": "python",
   "pygments_lexer": "ipython3",
   "version": "3.11.7"
  }
 },
 "nbformat": 4,
 "nbformat_minor": 5
}
